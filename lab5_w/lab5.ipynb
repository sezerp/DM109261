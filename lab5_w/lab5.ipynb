{
 "cells": [
  {
   "cell_type": "markdown",
   "metadata": {},
   "source": [
    "## STATYSTYKA"
   ]
  },
  {
   "cell_type": "code",
   "execution_count": 1,
   "metadata": {},
   "outputs": [],
   "source": [
    "# Normal distribution\n",
    "import numpy as np\n",
    "import matplotlib.pyplot as plt\n",
    "from scipy.stats import norm\n",
    "# %matplotlib inline"
   ]
  },
  {
   "cell_type": "code",
   "execution_count": 2,
   "metadata": {},
   "outputs": [],
   "source": [
    "mu = 0 # mean\n",
    "var = 2 # variance \n",
    "sigma = np.sqrt(var) # standard dev\n",
    "x = np.linspace(mu-3*sigma, mu+3*sigma, 100)"
   ]
  },
  {
   "cell_type": "code",
   "execution_count": 3,
   "metadata": {},
   "outputs": [
    {
     "data": {
      "text/plain": [
       "array([-4.24264069, -4.15693077, -4.07122086, -3.98551095, -3.89980104,\n",
       "       -3.81409112, -3.72838121, -3.6426713 , -3.55696138, -3.47125147,\n",
       "       -3.38554156, -3.29983165, -3.21412173, -3.12841182, -3.04270191,\n",
       "       -2.95699199, -2.87128208, -2.78557217, -2.69986226, -2.61415234,\n",
       "       -2.52844243, -2.44273252, -2.3570226 , -2.27131269, -2.18560278,\n",
       "       -2.09989287, -2.01418295, -1.92847304, -1.84276313, -1.75705321,\n",
       "       -1.6713433 , -1.58563339, -1.49992348, -1.41421356, -1.32850365,\n",
       "       -1.24279374, -1.15708382, -1.07137391, -0.985664  , -0.89995409,\n",
       "       -0.81424417, -0.72853426, -0.64282435, -0.55711443, -0.47140452,\n",
       "       -0.38569461, -0.2999847 , -0.21427478, -0.12856487, -0.04285496,\n",
       "        0.04285496,  0.12856487,  0.21427478,  0.2999847 ,  0.38569461,\n",
       "        0.47140452,  0.55711443,  0.64282435,  0.72853426,  0.81424417,\n",
       "        0.89995409,  0.985664  ,  1.07137391,  1.15708382,  1.24279374,\n",
       "        1.32850365,  1.41421356,  1.49992348,  1.58563339,  1.6713433 ,\n",
       "        1.75705321,  1.84276313,  1.92847304,  2.01418295,  2.09989287,\n",
       "        2.18560278,  2.27131269,  2.3570226 ,  2.44273252,  2.52844243,\n",
       "        2.61415234,  2.69986226,  2.78557217,  2.87128208,  2.95699199,\n",
       "        3.04270191,  3.12841182,  3.21412173,  3.29983165,  3.38554156,\n",
       "        3.47125147,  3.55696138,  3.6426713 ,  3.72838121,  3.81409112,\n",
       "        3.89980104,  3.98551095,  4.07122086,  4.15693077,  4.24264069])"
      ]
     },
     "execution_count": 3,
     "metadata": {},
     "output_type": "execute_result"
    }
   ],
   "source": [
    "x"
   ]
  },
  {
   "cell_type": "code",
   "execution_count": 4,
   "metadata": {},
   "outputs": [
    {
     "data": {
      "text/plain": [
       "[<matplotlib.lines.Line2D at 0x7f424aaad0f0>]"
      ]
     },
     "execution_count": 4,
     "metadata": {},
     "output_type": "execute_result"
    },
    {
     "data": {
      "image/png": "[encoded data removed]",
      "text/plain": [
       "<Figure size 432x288 with 1 Axes>"
      ]
     },
     "metadata": {
      "needs_background": "light"
     },
     "output_type": "display_data"
    }
   ],
   "source": [
    "plt.plot(x, norm.pdf(x, mu, sigma))"
   ]
  },
  {
   "cell_type": "code",
   "execution_count": 5,
   "metadata": {},
   "outputs": [
    {
     "name": "stdout",
     "output_type": "stream",
     "text": [
      "stat=0.895, p=0.193\n",
      "Probably Gaussian\n"
     ]
    }
   ],
   "source": [
    "from scipy.stats import shapiro\n",
    "data = [0.873, 2.817, 0.121, -0.945, -0.055, -1.436, 0.360, -1.478, -1.637, -1.869]\n",
    "stat, p = shapiro(data)\n",
    "print('stat=%.3f, p=%.3f' % (stat, p))\n",
    "if p > 0.05:\n",
    "\tprint('Probably Gaussian')\n",
    "else:\n",
    "\tprint('Probably not Gaussian')"
   ]
  },
  {
   "cell_type": "markdown",
   "metadata": {},
   "source": [
    "## testowanie hipotez\n",
    "wyrzucono 2 orły na 3 rzuty - czy moneta jest oszukana ?\n",
    "\n",
    "### MODEL : Liczba wyrzuconych orłów spełnia rozkład Binomial \n",
    "\n",
    "Parametry modelu: N=3, P = liczba orłów na wszystkie rzuty = 2/3\n",
    "\n",
    "Hipoteza zerowa : rozkład orłów wygląda tak: \n",
    "\n",
    "\n",
    "| 1  | 2  |  3 | liczba orłów    |\n",
    "|---|---|---|-------|\n",
    "|   |   |   | 0      |\n",
    "| O |   |   | 1      |\n",
    "|   | O |   | 1      |\n",
    "|   |   | O | 1      |\n",
    "| O | O |   | 2      |\n",
    "| O |   |O  | 2      |\n",
    "|   | O |O  | 2      |\n",
    "| O | O |O  | 3      |\n",
    "\n",
    "\n",
    "$P(x=0)=\\frac{1}{8}$\n",
    "\n",
    "$P(x=1)=\\frac{3}{8}$\n",
    "\n",
    "$P(x=2)=\\frac{3}{8}$\n",
    "\n",
    "$P(x=3)=\\frac{1}{8}$\n"
   ]
  },
  {
   "cell_type": "code",
   "execution_count": 6,
   "metadata": {},
   "outputs": [
    {
     "data": {
      "text/plain": [
       "Text(0.5, 0, 'Rozkład ilości orłów dla trzech rzutów monetą gdy prawdziwa jest hipoteza zerowa')"
      ]
     },
     "execution_count": 6,
     "metadata": {},
     "output_type": "execute_result"
    },
    {
     "data": {
      "image/png": "[encoded data removed]",
      "text/plain": [
       "<Figure size 432x288 with 1 Axes>"
      ]
     },
     "metadata": {
      "needs_background": "light"
     },
     "output_type": "display_data"
    }
   ],
   "source": [
    "plt.bar([0, 1, 2, 3], [1/8, 3/8, 3/8, 1/8], width=0.9)\n",
    "_ = plt.xticks([0, 1, 2, 3], [0, 1, 2, 3])\n",
    "plt.xlabel(\"Rozkład ilości orłów dla trzech rzutów monetą gdy prawdziwa jest hipoteza zerowa\")"
   ]
  },
  {
   "cell_type": "markdown",
   "metadata": {},
   "source": [
    "###  Oblicz prawdopodobieństwo p-value zaobserwowania wartości równej bądź większej 2 przy założeniu Hipotezy Zerowej. \n",
    "\n",
    "\n",
    "$$ P(x>2|H_0) = P(x=2) + P(x=3) = \\frac{3}{8}+\\frac{1}{8} = \\frac{4}{8}=\\frac{1}{2}$$"
   ]
  },
  {
   "cell_type": "markdown",
   "metadata": {},
   "source": [
    ">>> Zad 0. w 30 rzutach wypadło 24 orły. Zweryfikuj czy moneta jest prawidłowa. "
   ]
  },
  {
   "cell_type": "markdown",
   "metadata": {},
   "source": [
    "## One sample t-test\n",
    "\n",
    "The one-sample t-test is used to determine whether a sample comes from a population with a specific mean.\n",
    "\n",
    "Przykład:\n",
    "\n",
    "Chcemy przetestować czy średni wzrost populacji to 175 cm.\n",
    "\n",
    "1. Zakładamy, że wzrost reprezentowany jest przez rozkład normalny $X = \\mathcal{N}(\\mu,\\sigma)$ \n",
    "tzn: $\\text{wzrost}_i = \\text{średni_wzrost_populacji} + \\text{błąd}_i$\n",
    "\n",
    "błędy $\\epsilon_i$ nazywamy resztami\n",
    "\n",
    "2. FIT czyli estymacja parametrów modelu $\\vec{x},s_x$ jako estymatory $\\mu, \\sigma$\n",
    "\n",
    "3. Obliczenie statystyki testowej. W naszym przypadku to statystyka t-studenta\n",
    "\n",
    "4. Oblicz p-value - prawd. pojawienia się wyniku gdy $H_0$ jest prawdziwa. "
   ]
  },
  {
   "cell_type": "code",
   "execution_count": 7,
   "metadata": {},
   "outputs": [
    {
     "name": "stdout",
     "output_type": "stream",
     "text": [
      "181.6\n",
      "2.396876631158585\n"
     ]
    }
   ],
   "source": [
    "import numpy as np\n",
    "x = [183,  183,  173,  182,  183,  173,  199,  185,  168,  187]\n",
    "xbar = np.mean(x) # sample mean\n",
    "mu0 = 175 # hypothesized value\n",
    "s = np.std(x, ddof=1) # sample standard deviation\n",
    "n = len(x) # sample size\n",
    "print(xbar)\n",
    "tobs = (xbar - mu0) / (s / np.sqrt(n))\n",
    "print(tobs)"
   ]
  },
  {
   "cell_type": "code",
   "execution_count": 8,
   "metadata": {},
   "outputs": [
    {
     "data": {
      "text/plain": [
       "<matplotlib.legend.Legend at 0x7f424a356dd8>"
      ]
     },
     "execution_count": 8,
     "metadata": {},
     "output_type": "execute_result"
    },
    {
     "data": {
      "image/png": "[encoded data removed]",
      "text/plain": [
       "<Figure size 432x288 with 1 Axes>"
      ]
     },
     "metadata": {
      "needs_background": "light"
     },
     "output_type": "display_data"
    }
   ],
   "source": [
    "import scipy.stats as stats\n",
    "import matplotlib.pyplot as plt\n",
    "#tobs = 2.39687663116 # assume the t-value\n",
    "tvalues = np.linspace(-10, 10, 100)\n",
    "plt.plot(tvalues, stats.t.pdf(tvalues, n-1), 'b-', label=\"T(n-1)\")\n",
    "upper_tval_tvalues = tvalues[tvalues > tobs]\n",
    "\n",
    "plt.fill_between(upper_tval_tvalues, 0, stats.t.pdf(upper_tval_tvalues, n-1), alpha=.8, label=\"p-value\") \n",
    "plt.legend()"
   ]
  },
  {
   "cell_type": "markdown",
   "metadata": {},
   "source": [
    ">>> Zad.1 Znajdź test t studenta w pakiecie stats i określ wynik za pomocą p-value."
   ]
  },
  {
   "cell_type": "code",
   "execution_count": 9,
   "metadata": {},
   "outputs": [],
   "source": [
    "import scipy.stats as stats\n",
    "height = np.array([ 183, 183, 173, 182, 183, 173, 199, 185, 168, 187,\n",
    "                    166,  171,  173,  164,  170,  160,  179,  173,  162,  177])\n",
    "grp = np.array([\"M\"] * 10 + [\"F\"] * 10)"
   ]
  },
  {
   "cell_type": "markdown",
   "metadata": {},
   "source": [
    ">>> Zad.2 Umieść powyższe dane do pd.DataFrame()"
   ]
  },
  {
   "cell_type": "code",
   "execution_count": 10,
   "metadata": {},
   "outputs": [
    {
     "name": "stdout",
     "output_type": "stream",
     "text": [
      "Ttest_indResult(statistic=3.551151988846681, pvalue=0.0022820893711272506)\n"
     ]
    }
   ],
   "source": [
    "# Compute with scipy\n",
    "print(stats.ttest_ind(height[grp == \"M\"], height[grp == \"F\"], equal_var=True))"
   ]
  },
  {
   "cell_type": "code",
   "execution_count": 11,
   "metadata": {},
   "outputs": [
    {
     "name": "stdout",
     "output_type": "stream",
     "text": [
      "stat=-0.326, p=0.748\n",
      "Probably the same distribution\n"
     ]
    }
   ],
   "source": [
    "# Example of the Student's t-test\n",
    "from scipy.stats import ttest_ind\n",
    "data1 = [0.873, 2.817, 0.121, -0.945, -0.055, -1.436, 0.360, -1.478, -1.637, -1.869]\n",
    "data2 = [1.142, -0.432, -0.938, -0.729, -0.846, -0.157, 0.500, 1.183, -1.075, -0.169]\n",
    "stat, p = ttest_ind(data1, data2)\n",
    "print('stat=%.3f, p=%.3f' % (stat, p))\n",
    "if p > 0.05:\n",
    "\tprint('Probably the same distribution')\n",
    "else:\n",
    "\tprint('Probably different distributions')"
   ]
  },
  {
   "cell_type": "code",
   "execution_count": 12,
   "metadata": {},
   "outputs": [
    {
     "name": "stdout",
     "output_type": "stream",
     "text": [
      "MannwhitneyuResult(statistic=12.0, pvalue=0.0021875287667946952)\n"
     ]
    }
   ],
   "source": [
    "# Wilcoxon\n",
    "print(stats.mannwhitneyu(height[grp == \"M\"], height[grp == \"F\"]))"
   ]
  },
  {
   "cell_type": "markdown",
   "metadata": {},
   "source": [
    "<img src=\"rys1.png\">"
   ]
  },
  {
   "cell_type": "code",
   "execution_count": 13,
   "metadata": {},
   "outputs": [],
   "source": [
    "import numpy as np\n",
    "import pandas as pd\n",
    "import scipy.stats as stats\n",
    "# Dataset:\n",
    "# 15 samples:\n",
    "# 10 first exposed\n",
    "exposed = np.array([1] * 10 + [0] * 10)\n",
    "# 8 first with cancer, 10 without, the last two with.\n",
    "cancer = np.array([1] * 8 + [0] * 10 + [1] * 2)"
   ]
  },
  {
   "cell_type": "code",
   "execution_count": 14,
   "metadata": {},
   "outputs": [
    {
     "data": {
      "text/plain": [
       "array([1, 1, 1, 1, 1, 1, 1, 1, 1, 1, 0, 0, 0, 0, 0, 0, 0, 0, 0, 0])"
      ]
     },
     "execution_count": 14,
     "metadata": {},
     "output_type": "execute_result"
    }
   ],
   "source": [
    "exposed"
   ]
  },
  {
   "cell_type": "code",
   "execution_count": 15,
   "metadata": {},
   "outputs": [
    {
     "data": {
      "text/plain": [
       "array([1, 1, 1, 1, 1, 1, 1, 1, 0, 0, 0, 0, 0, 0, 0, 0, 0, 0, 1, 1])"
      ]
     },
     "execution_count": 15,
     "metadata": {},
     "output_type": "execute_result"
    }
   ],
   "source": [
    "cancer"
   ]
  },
  {
   "cell_type": "code",
   "execution_count": 16,
   "metadata": {},
   "outputs": [],
   "source": [
    "crosstab = pd.crosstab(exposed, cancer, rownames=['exposed'],\n",
    "                       colnames=['cancer'])"
   ]
  },
  {
   "cell_type": "code",
   "execution_count": 17,
   "metadata": {},
   "outputs": [
    {
     "data": {
      "text/html": [
       "<div>\n",
       "<style scoped>\n",
       "    .dataframe tbody tr th:only-of-type {\n",
       "        vertical-align: middle;\n",
       "    }\n",
       "\n",
       "    .dataframe tbody tr th {\n",
       "        vertical-align: top;\n",
       "    }\n",
       "\n",
       "    .dataframe thead th {\n",
       "        text-align: right;\n",
       "    }\n",
       "</style>\n",
       "<table border=\"1\" class=\"dataframe\">\n",
       "  <thead>\n",
       "    <tr style=\"text-align: right;\">\n",
       "      <th>cancer</th>\n",
       "      <th>0</th>\n",
       "      <th>1</th>\n",
       "    </tr>\n",
       "    <tr>\n",
       "      <th>exposed</th>\n",
       "      <th></th>\n",
       "      <th></th>\n",
       "    </tr>\n",
       "  </thead>\n",
       "  <tbody>\n",
       "    <tr>\n",
       "      <th>0</th>\n",
       "      <td>8</td>\n",
       "      <td>2</td>\n",
       "    </tr>\n",
       "    <tr>\n",
       "      <th>1</th>\n",
       "      <td>2</td>\n",
       "      <td>8</td>\n",
       "    </tr>\n",
       "  </tbody>\n",
       "</table>\n",
       "</div>"
      ],
      "text/plain": [
       "cancer   0  1\n",
       "exposed      \n",
       "0        8  2\n",
       "1        2  8"
      ]
     },
     "execution_count": 17,
     "metadata": {},
     "output_type": "execute_result"
    }
   ],
   "source": [
    "crosstab"
   ]
  },
  {
   "cell_type": "code",
   "execution_count": 18,
   "metadata": {},
   "outputs": [],
   "source": [
    "chi2, pval, dof, expected = stats.chi2_contingency(crosstab)"
   ]
  },
  {
   "cell_type": "code",
   "execution_count": 19,
   "metadata": {},
   "outputs": [
    {
     "name": "stdout",
     "output_type": "stream",
     "text": [
      "chi2: 5.0\n",
      " pval: 0.025347318677468325,\n",
      " dof:1,\n",
      " expected: [[5. 5.]\n",
      " [5. 5.]]\n"
     ]
    }
   ],
   "source": [
    "print(f\"chi2: {chi2}\\n pval: {pval},\\n dof:{dof},\\n expected: {expected}\")"
   ]
  },
  {
   "cell_type": "code",
   "execution_count": 20,
   "metadata": {},
   "outputs": [
    {
     "name": "stdout",
     "output_type": "stream",
     "text": [
      "stat=0.272, p=0.873\n",
      "Probably independent\n"
     ]
    }
   ],
   "source": [
    "# Example of the Chi-Squared Test\n",
    "from scipy.stats import chi2_contingency\n",
    "table = [[10, 20, 30],[6,  9,  17]]\n",
    "stat, p, dof, expected = chi2_contingency(table)\n",
    "print('stat=%.3f, p=%.3f' % (stat, p))\n",
    "if p > 0.05:\n",
    "\tprint('Probably independent')\n",
    "else:\n",
    "\tprint('Probably dependent')"
   ]
  },
  {
   "cell_type": "code",
   "execution_count": 21,
   "metadata": {},
   "outputs": [
    {
     "name": "stdout",
     "output_type": "stream",
     "text": [
      "stat=0.096, p=0.908\n",
      "Probably the same distribution\n"
     ]
    }
   ],
   "source": [
    "# Example of the Analysis of Variance Test\n",
    "from scipy.stats import f_oneway\n",
    "data1 = [0.873, 2.817, 0.121, -0.945, -0.055, -1.436, 0.360, -1.478, -1.637, -1.869]\n",
    "data2 = [1.142, -0.432, -0.938, -0.729, -0.846, -0.157, 0.500, 1.183, -1.075, -0.169]\n",
    "data3 = [-0.208, 0.696, 0.928, -1.148, -0.213, 0.229, 0.137, 0.269, -0.870, -1.204]\n",
    "stat, p = f_oneway(data1, data2, data3)\n",
    "print('stat=%.3f, p=%.3f' % (stat, p))\n",
    "if p > 0.05:\n",
    "\tprint('Probably the same distribution')\n",
    "else:\n",
    "\tprint('Probably different distributions')"
   ]
  },
  {
   "cell_type": "code",
   "execution_count": null,
   "metadata": {},
   "outputs": [],
   "source": []
  }
 ],
 "metadata": {
  "kernelspec": {
   "display_name": "Python 3",
   "language": "python",
   "name": "python3"
  },
  "language_info": {
   "codemirror_mode": {
    "name": "ipython",
    "version": 3
   },
   "file_extension": ".py",
   "mimetype": "text/x-python",
   "name": "python",
   "nbconvert_exporter": "python",
   "pygments_lexer": "ipython3",
   "version": "3.6.9"
  }
 },
 "nbformat": 4,
 "nbformat_minor": 4
}
