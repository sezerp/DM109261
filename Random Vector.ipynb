{
 "cells": [
  {
   "cell_type": "code",
   "execution_count": 1,
   "metadata": {},
   "outputs": [],
   "source": [
    "import numpy as np\n",
    "import random\n",
    "from typing import List"
   ]
  },
  {
   "cell_type": "markdown",
   "metadata": {},
   "source": [
    "1. Wykorzystując środowisko R, Python, SAS (może być np jupyter notebook, anaconda itp)  wskaż realizację losowego wektora danych z siedmioma elementami. "
   ]
  },
  {
   "cell_type": "code",
   "execution_count": 2,
   "metadata": {},
   "outputs": [
    {
     "data": {
      "text/plain": [
       "array([0.19117258, 0.45002991, 0.1479861 , 0.45278595, 0.79153037,\n",
       "       0.14107092, 0.80111365])"
      ]
     },
     "execution_count": 2,
     "metadata": {},
     "output_type": "execute_result"
    }
   ],
   "source": [
    "np.random.random_sample((7,))"
   ]
  },
  {
   "cell_type": "code",
   "execution_count": 3,
   "metadata": {},
   "outputs": [
    {
     "data": {
      "text/plain": [
       "[0.1402515893445222,\n",
       " 0.14433609383689183,\n",
       " 0.8316419878793204,\n",
       " 0.5968061630164297,\n",
       " 0.21415342132267612,\n",
       " 0.8542842105637211,\n",
       " 0.030575280591573772]"
      ]
     },
     "execution_count": 3,
     "metadata": {},
     "output_type": "execute_result"
    }
   ],
   "source": [
    "def generate_random_vector_7(a: float = 0, b: float = 1):\n",
    "    \"\"\"generate_random_vector_7\n",
    "    Arguments:\n",
    "        :param a: beginning interval, defaults to 0\n",
    "        :param b: end interval, defaults to 1\n",
    "    Returns:\n",
    "        :return: random vector of length 7\n",
    "    Raises:\n",
    "         ValueError: If `a` is greater or equal `b`.\n",
    "    \"\"\"\n",
    "    \n",
    "    if a > b:\n",
    "        raise ValueError(f\"The beginning of interval must be greater then end interval. Given interval: ({a} {b})\")\n",
    "    \n",
    "    vector = []\n",
    "    for i in range(0, 7):\n",
    "        vector.append(random.uniform(a, b))\n",
    "        \n",
    "    return vector\n",
    "\n",
    "generate_random_vector_7()"
   ]
  },
  {
   "cell_type": "code",
   "execution_count": 4,
   "metadata": {},
   "outputs": [
    {
     "name": "stdout",
     "output_type": "stream",
     "text": [
      "Help on function generate_random_vector_7 in module __main__:\n",
      "\n",
      "generate_random_vector_7(a:float=0, b:float=1)\n",
      "    generate_random_vector_7\n",
      "    Arguments:\n",
      "        :param a: beginning interval, defaults to 0\n",
      "        :param b: end interval, defaults to 1\n",
      "    Returns:\n",
      "        :return: random vector of length 7\n",
      "    Raises:\n",
      "         ValueError: If `a` is greater or equal `b`.\n",
      "\n"
     ]
    }
   ],
   "source": [
    "help(generate_random_vector_7)"
   ]
  },
  {
   "cell_type": "markdown",
   "metadata": {},
   "source": [
    "2. Napisz funkcję, która jako parametr pierwszy parametr przyjmuje liczbę n . Następnie na podstawie tej liczby generuje wektor losowy o długości n. (R , Python) "
   ]
  },
  {
   "cell_type": "code",
   "execution_count": 5,
   "metadata": {},
   "outputs": [
    {
     "name": "stdout",
     "output_type": "stream",
     "text": [
      "[0.6741322709728195, 0.3656136856245089, 0.1868761451446107, 0.37882727582126896, 0.8905380307663464]\n",
      "[0.52185461820263, 0.20353635314077456, 0.8860682759048735, 0.16264596891492655, 0.7468139648743014, 0.6166021172770065, 0.9790419100663438]\n",
      "[0.5838310080500847, 0.9000863230562106, 0.09064576451702644, 0.3723568969526162, 0.4395916217047783, 0.5957090141794822, 0.840339779345324, 0.9047417957989614, 0.5965160006404346, 0.23724566717761875, 0.5898514724462751]\n"
     ]
    }
   ],
   "source": [
    "def generate_random_vector_n(n: int, a: float = 0, b: float = 1) -> List[float]:\n",
    "    \"\"\"generate_random_vector_n\n",
    "    Arguments:\n",
    "        :param n: output vector length\n",
    "        :param a: beginning interval, defaults to 0\n",
    "        :param b: end interval, defaults to 1\n",
    "    Returns:\n",
    "        :return: random vector as List[float] on length n\n",
    "    Raises:\n",
    "         ValueError: If `a` is greater or equal `b`.\n",
    "    \"\"\"\n",
    "\n",
    "    if a > b:\n",
    "        raise ValueError(f\"The beginning of interval must be greater then end interval. Given interval: ({a} {b})\")\n",
    "\n",
    "    vector = []\n",
    "    for _ in range(0, n):\n",
    "        vector.append(random.uniform(a, b))\n",
    "    return vector\n",
    "\n",
    "print(generate_random_vector_n(5))\n",
    "print(generate_random_vector_n(7))\n",
    "print(generate_random_vector_n(11))"
   ]
  },
  {
   "cell_type": "code",
   "execution_count": null,
   "metadata": {},
   "outputs": [],
   "source": [
    "help(generate_random_vector_n)"
   ]
  },
  {
   "cell_type": "code",
   "execution_count": 12,
   "metadata": {},
   "outputs": [
    {
     "name": "stdout",
     "output_type": "stream",
     "text": [
      "[0.5407062222885994, 0.1546224054918809, 0.9739992244251173, 0.8666866898137744, 0.5474809242454098]\n",
      "[0.7412779682479588, 0.763986863757588, 0.0856733110822917, 0.04153868123114646, 0.7207501925141337, 0.5493039811305428, 0.6889222550266293]\n",
      "[0.02092719194583481, 0.7891432501207052, 0.769883801784734, 0.13140193533589017, 0.06258559362828653, 0.6699489388732656, 0.6473517164979958, 0.08944881819531658, 0.5145824930117494, 0.6548565583888232, 0.18916137368029295]\n"
     ]
    }
   ],
   "source": [
    "def generate_random_vector_n_pure(n: int, a: float = 0, b: float = 1) -> List[float]:\n",
    "    \"\"\"generate_random_vector_n_pure wersion without side effects coming from for loop\n",
    "    Arguments:\n",
    "        :param n: output vector length\n",
    "        :param a: beginning interval, defaults to 0\n",
    "        :param b: end interval, defaults to 1\n",
    "    Returns:\n",
    "        :return: random vector as List[float] on length n\n",
    "    Raises:\n",
    "         ValueError: If `a` is greater or equal `b`.\n",
    "    \"\"\"\n",
    "\n",
    "    if a > b:\n",
    "        raise ValueError(f\"The beginning of interval must be greater then end interval. Given interval: ({a} {b})\")\n",
    "\n",
    "    return list(map(lambda _: random.uniform(a, b), range(0, n)))\n",
    "\n",
    "\n",
    "print(generate_random_vector_n_pure(5))\n",
    "print(generate_random_vector_n_pure(7))\n",
    "print(generate_random_vector_n_pure(11))"
   ]
  },
  {
   "cell_type": "code",
   "execution_count": 9,
   "metadata": {},
   "outputs": [
    {
     "name": "stdout",
     "output_type": "stream",
     "text": [
      "Help on function generate_random_vector_n_pure in module __main__:\n",
      "\n",
      "generate_random_vector_n_pure(n:int, a:float=0, b:float=1) -> List[float]\n",
      "    generate_random_vector_n_pure wersion without side effects coming from for loop\n",
      "    Arguments:\n",
      "        :param n: output vector length\n",
      "        :param a: beginning interval, defaults to 0\n",
      "        :param b: end interval, defaults to 1\n",
      "    Returns:\n",
      "        :return: random vector as List[float] on length n\n",
      "    Raises:\n",
      "         ValueError: If `a` is greater or equal `b`.\n",
      "\n"
     ]
    }
   ],
   "source": [
    "help(generate_random_vector_n_pure)"
   ]
  },
  {
   "cell_type": "code",
   "execution_count": null,
   "metadata": {},
   "outputs": [],
   "source": []
  }
 ],
 "metadata": {
  "kernelspec": {
   "display_name": "Python 3",
   "language": "python",
   "name": "python3"
  },
  "language_info": {
   "codemirror_mode": {
    "name": "ipython",
    "version": 3
   },
   "file_extension": ".py",
   "mimetype": "text/x-python",
   "name": "python",
   "nbconvert_exporter": "python",
   "pygments_lexer": "ipython3",
   "version": "3.6.9"
  }
 },
 "nbformat": 4,
 "nbformat_minor": 4
}
