{
 "cells": [
  {
   "cell_type": "code",
   "execution_count": 1,
   "metadata": {},
   "outputs": [],
   "source": [
    "import numpy as np\n",
    "import random\n",
    "from typing import List"
   ]
  },
  {
   "cell_type": "markdown",
   "metadata": {},
   "source": [
    "1. Wykorzystując środowisko R, Python, SAS (może być np jupyter notebook, anaconda itp)  wskaż realizację losowego wektora danych z siedmioma elementami. "
   ]
  },
  {
   "cell_type": "code",
   "execution_count": 2,
   "metadata": {},
   "outputs": [
    {
     "data": {
      "text/plain": [
       "array([0.07466319, 0.22017907, 0.21657031, 0.79133506, 0.28466955,\n",
       "       0.53721674, 0.93127531])"
      ]
     },
     "execution_count": 2,
     "metadata": {},
     "output_type": "execute_result"
    }
   ],
   "source": [
    "np.random.random_sample((7,))"
   ]
  },
  {
   "cell_type": "code",
   "execution_count": 3,
   "metadata": {},
   "outputs": [
    {
     "data": {
      "text/plain": [
       "[0.049821844192959985,\n",
       " 0.5969705721367402,\n",
       " 0.1923061627065873,\n",
       " 0.31049343016256326,\n",
       " 0.010426505389026897,\n",
       " 0.6570474168451016,\n",
       " 0.2471295515233829]"
      ]
     },
     "execution_count": 3,
     "metadata": {},
     "output_type": "execute_result"
    }
   ],
   "source": [
    "def generate_random_vector_7(a: float = 0, b: float = 1):\n",
    "    \"\"\"generate_random_vector_7\n",
    "    Arguments:\n",
    "        :param a: beginning interval, defaults to 0\n",
    "        :param b: end interval, defaults to 1\n",
    "    Returns:\n",
    "        :return: random vector of length 7\n",
    "    Raises:\n",
    "         ValueError: If `a` is greater or equal `b`.\n",
    "    \"\"\"\n",
    "    \n",
    "    if a > b:\n",
    "        raise ValueError(f\"The beginning of interval must be greater then end interval. Given interval: ({a} {b})\")\n",
    "    \n",
    "    vector = []\n",
    "    for i in range(0, 7):\n",
    "        vector.append(random.uniform(a, b))\n",
    "        \n",
    "    return vector\n",
    "\n",
    "generate_random_vector_7()"
   ]
  },
  {
   "cell_type": "code",
   "execution_count": 7,
   "metadata": {},
   "outputs": [
    {
     "name": "stdout",
     "output_type": "stream",
     "text": [
      "Help on function generate_random_vector_7 in module __main__:\n",
      "\n",
      "generate_random_vector_7(a:float=0, b:float=1)\n",
      "    generate_random_vector_7\n",
      "    Arguments:\n",
      "        :param a: beginning interval, defaults to 0\n",
      "        :param b: end interval, defaults to 1\n",
      "    Returns:\n",
      "        :return: random vector of length 7\n",
      "    Raises:\n",
      "         ValueError: If `a` is greater or equal `b`.\n",
      "\n"
     ]
    }
   ],
   "source": [
    "help(generate_random_vector_7)"
   ]
  },
  {
   "cell_type": "markdown",
   "metadata": {},
   "source": [
    "2. Napisz funkcję, która jako parametr pierwszy parametr przyjmuje liczbę n . Następnie na podstawie tej liczby generuje wektor losowy o długości n. (R , Python) "
   ]
  },
  {
   "cell_type": "code",
   "execution_count": 5,
   "metadata": {},
   "outputs": [
    {
     "name": "stdout",
     "output_type": "stream",
     "text": [
      "[0.8276227994535211, 0.3159764075735263, 0.9621263870348828, 0.22567792259810993, 0.7009944526311458]\n",
      "[0.4983422193362663, 0.5224011765024642, 0.4612984021592188, 0.5305838735600038, 0.7333037637462247, 0.2334074422275476, 0.018127483385572907]\n",
      "[0.758782284794373, 0.6085874539766698, 0.9523534009247586, 0.09040549744249615, 0.5175925736913073, 0.4033168014441818, 0.9655985158197224, 0.9093337498125607, 0.7834343073993263, 0.09042082984695032, 0.3932076129956601]\n"
     ]
    }
   ],
   "source": [
    "def generate_random_vector_n(n: int, a: float = 0, b: float = 1) -> List[float]:\n",
    "    \"\"\"generate_random_vector_n\n",
    "    Arguments:\n",
    "        :param n: output vector length\n",
    "        :param a: beginning interval, defaults to 0\n",
    "        :param b: end interval, defaults to 1\n",
    "    Returns:\n",
    "        :return: random vector as List[float] on length n\n",
    "    Raises:\n",
    "         ValueError: If `a` is greater or equal `b`.\n",
    "    \"\"\"\n",
    "\n",
    "    if a > b:\n",
    "        raise ValueError(f\"The beginning of interval must be greater then end interval. Given interval: ({a} {b})\")\n",
    "\n",
    "    vector = []\n",
    "    for i in range(0, n):\n",
    "        vector.append(random.uniform(a, b))\n",
    "    return vector\n",
    "\n",
    "print(generate_random_vector_n(5))\n",
    "print(generate_random_vector_n(7))\n",
    "print(generate_random_vector_n(11))"
   ]
  },
  {
   "cell_type": "code",
   "execution_count": 6,
   "metadata": {},
   "outputs": [
    {
     "name": "stdout",
     "output_type": "stream",
     "text": [
      "Help on function generate_random_vector_n in module __main__:\n",
      "\n",
      "generate_random_vector_n(n:int, a:float=0, b:float=1) -> List[float]\n",
      "    generate_random_vector_n\n",
      "    Arguments:\n",
      "        :param n: output vector length\n",
      "        :param a: beginning interval, defaults to 0\n",
      "        :param b: end interval, defaults to 1\n",
      "    Returns:\n",
      "        :return: random vector as List[float] on length n\n",
      "    Raises:\n",
      "         ValueError: If `a` is greater or equal `b`.\n",
      "\n"
     ]
    }
   ],
   "source": [
    "help(generate_random_vector_n)"
   ]
  },
  {
   "cell_type": "code",
   "execution_count": null,
   "metadata": {},
   "outputs": [],
   "source": []
  }
 ],
 "metadata": {
  "kernelspec": {
   "display_name": "Python 3",
   "language": "python",
   "name": "python3"
  },
  "language_info": {
   "codemirror_mode": {
    "name": "ipython",
    "version": 3
   },
   "file_extension": ".py",
   "mimetype": "text/x-python",
   "name": "python",
   "nbconvert_exporter": "python",
   "pygments_lexer": "ipython3",
   "version": "3.6.9"
  }
 },
 "nbformat": 4,
 "nbformat_minor": 4
}
