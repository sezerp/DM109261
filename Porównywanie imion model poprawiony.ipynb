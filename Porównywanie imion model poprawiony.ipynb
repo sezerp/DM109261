{
 "cells": [
  {
   "cell_type": "code",
   "execution_count": 1,
   "metadata": {},
   "outputs": [],
   "source": [
    "import pandas as pd\n",
    "import numpy as np\n",
    "from sklearn import metrics\n",
    "from sklearn.ensemble import RandomForestClassifier\n",
    "# cross_validation depracited replaced by model_selection\n",
    "from sklearn.model_selection import train_test_split\n",
    "from sklearn.feature_extraction.text import CountVectorizer\n",
    "from sklearn.naive_bayes import MultinomialNB"
   ]
  },
  {
   "cell_type": "code",
   "execution_count": 2,
   "metadata": {},
   "outputs": [],
   "source": [
    "df_imiona = pd.read_csv(\"https://sebkaz.github.io/teaching/PrzetwarzanieDanych/data/polish_names.csv\")"
   ]
  },
  {
   "cell_type": "code",
   "execution_count": 3,
   "metadata": {},
   "outputs": [
    {
     "data": {
      "text/html": [
       "<div>\n",
       "<style scoped>\n",
       "    .dataframe tbody tr th:only-of-type {\n",
       "        vertical-align: middle;\n",
       "    }\n",
       "\n",
       "    .dataframe tbody tr th {\n",
       "        vertical-align: top;\n",
       "    }\n",
       "\n",
       "    .dataframe thead th {\n",
       "        text-align: right;\n",
       "    }\n",
       "</style>\n",
       "<table border=\"1\" class=\"dataframe\">\n",
       "  <thead>\n",
       "    <tr style=\"text-align: right;\">\n",
       "      <th></th>\n",
       "      <th>name</th>\n",
       "      <th>gender</th>\n",
       "    </tr>\n",
       "  </thead>\n",
       "  <tbody>\n",
       "    <tr>\n",
       "      <th>872</th>\n",
       "      <td>Lutogniew</td>\n",
       "      <td>m</td>\n",
       "    </tr>\n",
       "    <tr>\n",
       "      <th>1161</th>\n",
       "      <td>Raissa</td>\n",
       "      <td>f</td>\n",
       "    </tr>\n",
       "    <tr>\n",
       "      <th>1072</th>\n",
       "      <td>Paloma</td>\n",
       "      <td>f</td>\n",
       "    </tr>\n",
       "  </tbody>\n",
       "</table>\n",
       "</div>"
      ],
      "text/plain": [
       "           name gender\n",
       "872   Lutogniew      m\n",
       "1161     Raissa      f\n",
       "1072     Paloma      f"
      ]
     },
     "execution_count": 3,
     "metadata": {},
     "output_type": "execute_result"
    }
   ],
   "source": [
    "df_imiona.sample(3)"
   ]
  },
  {
   "cell_type": "code",
   "execution_count": 4,
   "metadata": {},
   "outputs": [
    {
     "data": {
      "text/html": [
       "<div>\n",
       "<style scoped>\n",
       "    .dataframe tbody tr th:only-of-type {\n",
       "        vertical-align: middle;\n",
       "    }\n",
       "\n",
       "    .dataframe tbody tr th {\n",
       "        vertical-align: top;\n",
       "    }\n",
       "\n",
       "    .dataframe thead th {\n",
       "        text-align: right;\n",
       "    }\n",
       "</style>\n",
       "<table border=\"1\" class=\"dataframe\">\n",
       "  <thead>\n",
       "    <tr style=\"text-align: right;\">\n",
       "      <th></th>\n",
       "      <th>name</th>\n",
       "      <th>gender</th>\n",
       "      <th>target</th>\n",
       "      <th>name_vect</th>\n",
       "    </tr>\n",
       "  </thead>\n",
       "  <tbody>\n",
       "    <tr>\n",
       "      <th>337</th>\n",
       "      <td>Demetria</td>\n",
       "      <td>f</td>\n",
       "      <td>0</td>\n",
       "      <td>[0, 0, 0, 0, 0, 6, 7, 17, 7, 25, 23, 12, 1]</td>\n",
       "    </tr>\n",
       "    <tr>\n",
       "      <th>1110</th>\n",
       "      <td>Prochor</td>\n",
       "      <td>m</td>\n",
       "      <td>1</td>\n",
       "      <td>[0, 0, 0, 0, 0, 0, 21, 23, 19, 4, 11, 19, 23]</td>\n",
       "    </tr>\n",
       "    <tr>\n",
       "      <th>1039</th>\n",
       "      <td>Odo</td>\n",
       "      <td>m</td>\n",
       "      <td>1</td>\n",
       "      <td>[0, 0, 0, 0, 0, 0, 0, 0, 0, 0, 19, 6, 19]</td>\n",
       "    </tr>\n",
       "    <tr>\n",
       "      <th>1578</th>\n",
       "      <td>Dajana</td>\n",
       "      <td>f</td>\n",
       "      <td>0</td>\n",
       "      <td>[0, 0, 0, 0, 0, 0, 0, 6, 1, 13, 1, 18, 1]</td>\n",
       "    </tr>\n",
       "    <tr>\n",
       "      <th>618</th>\n",
       "      <td>Ireneusz</td>\n",
       "      <td>m</td>\n",
       "      <td>1</td>\n",
       "      <td>[0, 0, 0, 0, 0, 12, 23, 7, 18, 7, 26, 24, 31]</td>\n",
       "    </tr>\n",
       "    <tr>\n",
       "      <th>1157</th>\n",
       "      <td>Rafael</td>\n",
       "      <td>m</td>\n",
       "      <td>1</td>\n",
       "      <td>[0, 0, 0, 0, 0, 0, 0, 23, 1, 9, 1, 7, 15]</td>\n",
       "    </tr>\n",
       "    <tr>\n",
       "      <th>667</th>\n",
       "      <td>Jewdocha</td>\n",
       "      <td>f</td>\n",
       "      <td>0</td>\n",
       "      <td>[0, 0, 0, 0, 0, 13, 7, 28, 6, 19, 4, 11, 1]</td>\n",
       "    </tr>\n",
       "    <tr>\n",
       "      <th>110</th>\n",
       "      <td>Arletta</td>\n",
       "      <td>f</td>\n",
       "      <td>0</td>\n",
       "      <td>[0, 0, 0, 0, 0, 0, 1, 23, 15, 7, 25, 25, 1]</td>\n",
       "    </tr>\n",
       "    <tr>\n",
       "      <th>12</th>\n",
       "      <td>Adaukt</td>\n",
       "      <td>m</td>\n",
       "      <td>1</td>\n",
       "      <td>[0, 0, 0, 0, 0, 0, 0, 1, 6, 1, 26, 14, 25]</td>\n",
       "    </tr>\n",
       "    <tr>\n",
       "      <th>718</th>\n",
       "      <td>Kasjan</td>\n",
       "      <td>m</td>\n",
       "      <td>1</td>\n",
       "      <td>[0, 0, 0, 0, 0, 0, 0, 14, 1, 24, 13, 1, 18]</td>\n",
       "    </tr>\n",
       "  </tbody>\n",
       "</table>\n",
       "</div>"
      ],
      "text/plain": [
       "          name gender  target                                      name_vect\n",
       "337   Demetria      f       0    [0, 0, 0, 0, 0, 6, 7, 17, 7, 25, 23, 12, 1]\n",
       "1110   Prochor      m       1  [0, 0, 0, 0, 0, 0, 21, 23, 19, 4, 11, 19, 23]\n",
       "1039       Odo      m       1      [0, 0, 0, 0, 0, 0, 0, 0, 0, 0, 19, 6, 19]\n",
       "1578    Dajana      f       0      [0, 0, 0, 0, 0, 0, 0, 6, 1, 13, 1, 18, 1]\n",
       "618   Ireneusz      m       1  [0, 0, 0, 0, 0, 12, 23, 7, 18, 7, 26, 24, 31]\n",
       "1157    Rafael      m       1      [0, 0, 0, 0, 0, 0, 0, 23, 1, 9, 1, 7, 15]\n",
       "667   Jewdocha      f       0    [0, 0, 0, 0, 0, 13, 7, 28, 6, 19, 4, 11, 1]\n",
       "110    Arletta      f       0    [0, 0, 0, 0, 0, 0, 1, 23, 15, 7, 25, 25, 1]\n",
       "12      Adaukt      m       1     [0, 0, 0, 0, 0, 0, 0, 1, 6, 1, 26, 14, 25]\n",
       "718     Kasjan      m       1    [0, 0, 0, 0, 0, 0, 0, 14, 1, 24, 13, 1, 18]"
      ]
     },
     "execution_count": 4,
     "metadata": {},
     "output_type": "execute_result"
    }
   ],
   "source": [
    "alphabet = list('aąbcćdeęfghijklłmnoópqrstuvwxyzźż')\n",
    "letter_to_num = {}\n",
    "cnt = 1\n",
    "for l in alphabet:\n",
    "    letter_to_num[l] = cnt\n",
    "    cnt += 1\n",
    "\n",
    "def name_to_dummy_vector(name: str, vect_len: int):\n",
    "    result = []\n",
    "    if vect_len > len(result):\n",
    "        for _ in range(vect_len - len(name)):\n",
    "            result.append(0)\n",
    "    for l in list(name.lower()):\n",
    "        if l not in letter_to_num:\n",
    "            result.append(0)\n",
    "        else:\n",
    "            result.append(letter_to_num[l])\n",
    "    \n",
    "    return result\n",
    "\n",
    "\n",
    "max_name_len = max(df_imiona['name'].map(str).apply(len))\n",
    "df_imiona['target'] = df_imiona['gender'].map(lambda data: 1 if data == 'm' else 0)\n",
    "df_imiona['name_vect'] = df_imiona['name'].map(lambda name: name_to_dummy_vector(name, max_name_len))\n",
    "\n",
    "df_imiona.sample(10)"
   ]
  },
  {
   "cell_type": "code",
   "execution_count": 5,
   "metadata": {},
   "outputs": [],
   "source": [
    "def generate_feature_labels(n, prefix='f_'):\n",
    "    result = []\n",
    "    for i in range(n):\n",
    "        result.append(f'{prefix}{i}')\n",
    "    return result\n",
    "\n",
    "feature_labels = generate_feature_labels(max_name_len)\n",
    "\n",
    "expand_column = lambda x: pd.Series([i for i in x])\n",
    "df_expanded_name = df_imiona['name_vect'].apply(expand_column)"
   ]
  },
  {
   "cell_type": "code",
   "execution_count": 6,
   "metadata": {},
   "outputs": [],
   "source": [
    "df = df_imiona.merge(df_expanded_name, left_index=True, right_index=True)"
   ]
  },
  {
   "cell_type": "code",
   "execution_count": 7,
   "metadata": {},
   "outputs": [],
   "source": [
    "lab_to_rename = {}\n",
    "cnt = 0\n",
    "for l in feature_labels:\n",
    "    lab_to_rename[cnt] = l\n",
    "    cnt += 1\n",
    "\n",
    "df.rename(columns=lab_to_rename, inplace=True)\n",
    "\n",
    "X = df[feature_labels]\n",
    "y = df['target']"
   ]
  },
  {
   "cell_type": "code",
   "execution_count": 8,
   "metadata": {},
   "outputs": [],
   "source": [
    "x_train, x_test, y_train, y_test = train_test_split(X, y, test_size=0.4)"
   ]
  },
  {
   "cell_type": "code",
   "execution_count": 9,
   "metadata": {},
   "outputs": [
    {
     "data": {
      "text/plain": [
       "MultinomialNB(alpha=1.0, class_prior=None, fit_prior=True)"
      ]
     },
     "execution_count": 9,
     "metadata": {},
     "output_type": "execute_result"
    }
   ],
   "source": [
    "clf_nb = MultinomialNB()\n",
    "clf_nb.fit(x_train, y_train)"
   ]
  },
  {
   "cell_type": "code",
   "execution_count": 10,
   "metadata": {},
   "outputs": [],
   "source": [
    "y_pred_nb = clf_nb.predict(x_test)"
   ]
  },
  {
   "cell_type": "code",
   "execution_count": 11,
   "metadata": {},
   "outputs": [
    {
     "name": "stdout",
     "output_type": "stream",
     "text": [
      "Accuracy: 0.9706744868035191\n"
     ]
    }
   ],
   "source": [
    "print(\"Accuracy:\",metrics.accuracy_score(y_test, y_pred_nb))"
   ]
  },
  {
   "cell_type": "code",
   "execution_count": 12,
   "metadata": {},
   "outputs": [],
   "source": [
    "clf_rf = RandomForestClassifier(n_estimators=100)\n",
    "clf_rf.fit(x_train, y_train)\n",
    "y_pred_rfc = clf_rf.predict(x_test)"
   ]
  },
  {
   "cell_type": "code",
   "execution_count": 13,
   "metadata": {},
   "outputs": [
    {
     "data": {
      "text/plain": [
       "0.9912023460410557"
      ]
     },
     "execution_count": 13,
     "metadata": {},
     "output_type": "execute_result"
    }
   ],
   "source": [
    "metrics.accuracy_score(y_test, y_pred_rfc)"
   ]
  }
 ],
 "metadata": {
  "kernelspec": {
   "display_name": "Python 3",
   "language": "python",
   "name": "python3"
  },
  "language_info": {
   "codemirror_mode": {
    "name": "ipython",
    "version": 3
   },
   "file_extension": ".py",
   "mimetype": "text/x-python",
   "name": "python",
   "nbconvert_exporter": "python",
   "pygments_lexer": "ipython3",
   "version": "3.6.9"
  },
  "widgets": {
   "application/vnd.jupyter.widget-state+json": {
    "state": {},
    "version_major": 2,
    "version_minor": 0
   }
  }
 },
 "nbformat": 4,
 "nbformat_minor": 4
}
